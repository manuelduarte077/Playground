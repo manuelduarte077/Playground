{
 "cells": [
  {
   "cell_type": "code",
   "metadata": {
    "collapsed": true,
    "ExecuteTime": {
     "end_time": "2025-05-07T04:14:16.955287Z",
     "start_time": "2025-05-07T04:14:16.069675Z"
    }
   },
   "source": "%use ktor-client",
   "outputs": [],
   "execution_count": 1
  },
  {
   "metadata": {
    "ExecuteTime": {
     "end_time": "2025-05-07T04:14:17.091755Z",
     "start_time": "2025-05-07T04:14:16.964580Z"
    }
   },
   "cell_type": "code",
   "source": [
    "import io.ktor.client.*\n",
    "import io.ktor.client.plugins.contentnegotiation.*\n",
    "import io.ktor.serialization.kotlinx.json.*\n",
    "\n",
    "val ktorClient = HttpClient {\n",
    "    install(ContentNegotiation) {\n",
    "        json()\n",
    "    }\n",
    "}"
   ],
   "outputs": [],
   "execution_count": 2
  },
  {
   "metadata": {
    "ExecuteTime": {
     "end_time": "2025-05-07T04:14:17.974372Z",
     "start_time": "2025-05-07T04:14:17.096598Z"
    }
   },
   "cell_type": "code",
   "source": [
    "import io.ktor.client.request.*\n",
    "import io.ktor.client.statement.*\n",
    "import kotlinx.coroutines.runBlocking\n",
    "\n",
    "var response: HttpResponse\n",
    "\n",
    "runBlocking {\n",
    "    response = ktorClient.get(\"https://pokeapi.co/api/v2/pokemon/ditto\")\n",
    "}\n"
   ],
   "outputs": [],
   "execution_count": 3
  },
  {
   "metadata": {
    "ExecuteTime": {
     "end_time": "2025-05-07T04:14:18.027350Z",
     "start_time": "2025-05-07T04:14:17.983786Z"
    }
   },
   "cell_type": "code",
   "source": "response.status",
   "outputs": [
    {
     "data": {
      "text/plain": [
       "200 OK"
      ]
     },
     "execution_count": 4,
     "metadata": {},
     "output_type": "execute_result"
    }
   ],
   "execution_count": 4
  }
 ],
 "metadata": {
  "kernelspec": {
   "display_name": "Kotlin",
   "language": "kotlin",
   "name": "kotlin"
  },
  "language_info": {
   "name": "kotlin",
   "version": "1.9.23",
   "mimetype": "text/x-kotlin",
   "file_extension": ".kt",
   "pygments_lexer": "kotlin",
   "codemirror_mode": "text/x-kotlin",
   "nbconvert_exporter": ""
  }
 },
 "nbformat": 4,
 "nbformat_minor": 0
}

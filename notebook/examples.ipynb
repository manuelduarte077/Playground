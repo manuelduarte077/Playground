{
 "cells": [
  {
   "cell_type": "code",
   "execution_count": null,
   "metadata": {},
   "outputs": [],
   "source": [
    "a = 5\n",
    "b = 10\n",
    "print(a + b)"
   ]
  },
  {
   "cell_type": "code",
   "execution_count": null,
   "metadata": {},
   "outputs": [],
   "source": [
    "import matplotlib.pyplot as plt\n",
    "\n",
    "x = [1, 2, 3, 4, 5]\n",
    "y = [2, 3, 4, 5, 6]\n",
    "\n",
    "plt.plot(x, y)\n",
    "plt.title(\"Grafico de ejemplo\")\n",
    "plt.show()"
   ]
  },
  {
   "cell_type": "code",
   "execution_count": null,
   "metadata": {},
   "outputs": [],
   "source": [
    "import numpy as np\n",
    "data = [1, 2, 3, 4, 5]\n",
    "print(f\"Media: {np.mean(data)}, Desviación estándar: {np.std(data)}\")"
   ]
  },
  {
   "cell_type": "code",
   "execution_count": null,
   "metadata": {},
   "outputs": [],
   "source": [
    "from textblob import TextBlob\n",
    "\n",
    "text = \"I love Jupyter Notebooks!\"\n",
    "sentiment = TextBlob(text).sentiment\n",
    "print(sentiment)"
   ]
  },
  {
   "cell_type": "code",
   "execution_count": null,
   "metadata": {},
   "outputs": [],
   "source": [
    "import folium\n",
    "map = folium.Map(location=[45.5236, -122.6750], zoom_start=13)\n",
    "folium.Marker([45.5244, -122.6699], popup=\"Portland Art Museum\").add_to(map)\n",
    "folium.Marker([45.5212, -122.6876], popup=\"Portland State University\").add_to(map)\n",
    "map.save(\"portland.html\")\n",
    "map"
   ]
  },
  {
   "cell_type": "code",
   "execution_count": null,
   "metadata": {},
   "outputs": [],
   "source": [
    "import random\n",
    "n = 10000\n",
    "inside_circle = sum(1 for _ in range(n) if random.random()**2 + random.random()**2 <= 1)\n",
    "print(f\"Estimación de pi: {4 * inside_circle / n}\")"
   ]
  },
  {
   "cell_type": "code",
   "execution_count": null,
   "metadata": {},
   "outputs": [],
   "source": [
    "import requests\n",
    "response = requests.get(\"https://api.github.com\")\n",
    "print(response.json())"
   ]
  },
  {
   "cell_type": "code",
   "execution_count": null,
   "metadata": {},
   "outputs": [],
   "source": [
    "import requests\n",
    "\n",
    "# Endpoint de la API\n",
    "url = \"https://api.github.com/users/manuelduarte077\"\n",
    "\n",
    "# Realizar la solicitud GET\n",
    "response = requests.get(url)\n",
    "if response.status_code == 200:\n",
    "    data = response.json()\n",
    "    print(f\"Usuario: {data['login']}\")\n",
    "    print(f\"Nombre: {data.get('name', 'No disponible')}\")\n",
    "    print(f\"Repos públicos: {data['public_repos']}\")\n",
    "else:\n",
    "    print(f\"Error: {response.status_code}\")"
   ]
  },
  {
   "cell_type": "code",
   "execution_count": null,
   "metadata": {},
   "outputs": [],
   "source": [
    "import requests\n",
    "\n",
    "# Endpoint de la API\n",
    "url = \"https://api.github.com/users/manuelduarte077/repos\"\n",
    "\n",
    "response = requests.get(url)\n",
    "if response.status_code == 200:\n",
    "    data = response.json()\n",
    "    for repo in data:\n",
    "        print(f\"Repositorio: {repo['name']}\")\n",
    "else:\n",
    "    print(f\"Error: {response.status_code}\")\n",
    "    "
   ]
  },
  {
   "cell_type": "code",
   "execution_count": null,
   "metadata": {},
   "outputs": [],
   "source": [
    "import requests\n",
    "\n",
    "# Endpoint de la API\n",
    "url = \"https://api.thedogapi.com/v1/breeds\"\n",
    "\n",
    "# Realizar la solicitud GET\n",
    "response = requests.get(url)\n",
    "if response.status_code == 200:\n",
    "    breeds = response.json() # Convertir la respuesta a JSON\n",
    "    random_breed = breeds[0]  # Seleccionar la primera raza como ejemplo\n",
    "    print(f\"Raza: {random_breed['name']}\")\n",
    "    print(f\"Temperamento: {random_breed['temperament']}\")\n",
    "    print(f\"Esperanza de vida: {random_breed['life_span']}\")\n",
    "else:\n",
    "    print(f\"Error: {response.status_code}\")"
   ]
  },
  {
   "cell_type": "code",
   "execution_count": null,
   "metadata": {},
   "outputs": [],
   "source": [
    "import requests\n",
    "\n",
    "# Endpoint de la API\n",
    "url = \"https://api.chucknorris.io/jokes/random\"\n",
    "\n",
    "# Realizar la solicitud GET\n",
    "response = requests.get(url) # Realizar la solicitud GET\n",
    "if response.status_code == 200: # Verificar si la solicitud fue exitosa\n",
    "    data = response.json() # Convertir la respuesta a JSON\n",
    "    print(f\"Chiste: {data['value']}\") # Imprimir el chiste\n",
    "else:\n",
    "    print(f\"Error: {response.status_code}\")"
   ]
  },
  {
   "cell_type": "code",
   "execution_count": null,
   "metadata": {},
   "outputs": [],
   "source": [
    "import requests\n",
    "\n",
    "# Endpoint de la API\n",
    "url = \"https://api.adviceslip.com/advice\"\n",
    "\n",
    "# Realizar la solicitud GET\n",
    "response = requests.get(url)\n",
    "if response.status_code == 200:\n",
    "    data = response.json()\n",
    "    print(f\"Consejo: {data['slip']['advice']}\")\n",
    "else:\n",
    "    print(f\"Error: {response.status_code}\")"
   ]
  },
  {
   "cell_type": "code",
   "execution_count": null,
   "metadata": {},
   "outputs": [],
   "source": [
    "import requests\n",
    "\n",
    "# Configuración del nombre a consultar\n",
    "name = \"Leonardo\"\n",
    "url = f\"https://api.agify.io/?name={name}\"\n",
    "\n",
    "# Realizar la solicitud GET\n",
    "response = requests.get(url)\n",
    "if response.status_code == 200:\n",
    "    data = response.json()\n",
    "    print(f\"Nombre: {data['name']}\")\n",
    "    print(f\"Edad estimada: {data['age']}\")\n",
    "    print(f\"Cantidad de datos usados: {data['count']}\")\n",
    "else:\n",
    "    print(f\"Error: {response.status_code}\")"
   ]
  },
  {
   "cell_type": "code",
   "execution_count": null,
   "metadata": {},
   "outputs": [],
   "source": [
    "import requests\n",
    "\n",
    "# Endpoint de la API\n",
    "url = \"https://catfact.ninja/fact\"\n",
    "\n",
    "# Realizar la solicitud GET\n",
    "response = requests.get(url)\n",
    "if response.status_code == 200:\n",
    "    data = response.json()\n",
    "    print(f\"Dato curioso: {data['fact']}\")\n",
    "else:\n",
    "    print(f\"Error: {response.status_code}\")"
   ]
  }
 ],
 "metadata": {
  "kernelspec": {
   "display_name": ".venv",
   "language": "python",
   "name": "python3"
  },
  "language_info": {
   "codemirror_mode": {
    "name": "ipython",
    "version": 3
   },
   "file_extension": ".py",
   "mimetype": "text/x-python",
   "name": "python",
   "nbconvert_exporter": "python",
   "pygments_lexer": "ipython3",
   "version": "3.12.4"
  }
 },
 "nbformat": 4,
 "nbformat_minor": 2
}

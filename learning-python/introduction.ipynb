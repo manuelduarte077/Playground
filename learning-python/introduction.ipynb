{
 "cells": [
  {
   "attachments": {},
   "cell_type": "markdown",
   "metadata": {},
   "source": [
    "[]: # Title: Introduction to Python"
   ]
  },
  {
   "attachments": {},
   "cell_type": "markdown",
   "metadata": {},
   "source": [
    "Este notebook contiene algunos ejercicios de programación que lo equiparán con las habilidades de programación que necesita para los próximos talleres. No tenga miedo de cometer errores. Cometer errores durante la codificación es perfectamente normal. Es más importante que aprenda a corregir esos errores. Si está trabado en alguno de los ejercicios, comience primero por buscar soluciones similares en internet, seguro encontrará la respuesta. Si no puede hallarla, pida ayuda a sus compañeros, o al profesor en clase."
   ]
  },
  {
   "attachments": {},
   "cell_type": "markdown",
   "metadata": {},
   "source": [
    "Las listas son variables que le permiten almacenar más de un valor.\n",
    "\n",
    "Antes de comenzar a codificar, aquí hay algunas propiedades importantes sobre las listas:\n",
    "\n",
    "    Las listas se definen con corchetes []\n",
    "    Las listas pueden contener cadenas, números enteros, flotantes, booleanos o cualquier combinación de estos.\n",
    "    Los elementos de una lista están separados por comas,\n",
    "    \n",
    "Con las 3 propiedades en mente, ¡comencemos a codificar! Mire el código a continuación e intente ejecutarlo."
   ]
  },
  {
   "cell_type": "code",
   "execution_count": 4,
   "metadata": {},
   "outputs": [
    {
     "name": "stdout",
     "output_type": "stream",
     "text": [
      "Una lista vacía []\n"
     ]
    }
   ],
   "source": [
    "# Crear una lista vacia\n",
    "\n",
    "my_list = []\n",
    "print(\"Una lista vacía\", my_list)"
   ]
  },
  {
   "cell_type": "code",
   "execution_count": 5,
   "metadata": {},
   "outputs": [
    {
     "name": "stdout",
     "output_type": "stream",
     "text": [
      "Manuel debería estar en la lista ['Manuel']\n"
     ]
    }
   ],
   "source": [
    "#.append() es una función que le permite agregar valores a una lista\n",
    "\n",
    "my_list.append(\"Manuel\")\n",
    "print(\"Manuel debería estar en la lista\", my_list)"
   ]
  },
  {
   "cell_type": "code",
   "execution_count": 6,
   "metadata": {},
   "outputs": [
    {
     "name": "stdout",
     "output_type": "stream",
     "text": [
      "La lista puede contener diferentes tipos de datos y los elementos de una lista están separados por comas:  ['Manuel', False, 9, 10.5]\n"
     ]
    }
   ],
   "source": [
    "# La lista puede contener cadenas, enteros, flotantes, booleanos o cualquier combinación de ellos\n",
    "\n",
    "my_list.append(False)\n",
    "my_list.append(9)\n",
    "my_list.append(10.5)\n",
    "\n",
    "print (\"La lista puede contener diferentes tipos de datos y los elementos de una lista están separados por comas: \", my_list)"
   ]
  },
  {
   "attachments": {},
   "cell_type": "markdown",
   "metadata": {},
   "source": [
    "La lista puede contener diferentes tipos de datos y los elementos de una lista están separados por comas:  ['Manuel', False, 9, 10.5]\n",
    "¡Pregunta de práctica!\n",
    "\n",
    "    Asigne los siguientes números a una lista definida como \"X1\". Los números son 4, 1, 5, 7.\n",
    "    Ahora, cambie el tercer número de 5 a 10. Imprima X1 para confirmar que ha cambiado el número.\n",
    "    Sume un valor de 2 a todos los elementos de la lista en la celda siguiente. Imprima X1 nuevamente para confirmar la adición."
   ]
  },
  {
   "cell_type": "code",
   "execution_count": 7,
   "metadata": {},
   "outputs": [
    {
     "name": "stdout",
     "output_type": "stream",
     "text": [
      "x1:  [4, 1, 5, 7]\n",
      "x1:  [4, 1, 10, 7]\n",
      "[6, 3, 12, 9]\n"
     ]
    }
   ],
   "source": [
    "# HACER: Asignar números 4,1,5,7 a la lista X1.\n",
    "\n",
    "x1 = [4,1,5,7]\n",
    "print(\"x1: \", x1)\n",
    "\n",
    "# HACER: Cambiar el tercer número (5) a 10. \n",
    "\n",
    "x1[2] = 10\n",
    "print(\"x1: \", x1)\n",
    "\n",
    "# TODO: sumar 2 a todos los ítems de la lista (pista: usar un ciclo \"for\". Está permitido buscar en internet cómo hacerlo!)\n",
    "\n",
    "i = 0\n",
    "for x in x1:\n",
    "    x = x+2\n",
    "    x1[i]=x\n",
    "    i = i+1\n",
    "\n",
    "print(x1)"
   ]
  }
 ],
 "metadata": {
  "kernelspec": {
   "display_name": "Python 3",
   "language": "python",
   "name": "python3"
  },
  "language_info": {
   "codemirror_mode": {
    "name": "ipython",
    "version": 3
   },
   "file_extension": ".py",
   "mimetype": "text/x-python",
   "name": "python",
   "nbconvert_exporter": "python",
   "pygments_lexer": "ipython3",
   "version": "3.10.9"
  },
  "orig_nbformat": 4,
  "vscode": {
   "interpreter": {
    "hash": "b0fa6594d8f4cbf19f97940f81e996739fb7646882a419484c72d19e05852a7e"
   }
  }
 },
 "nbformat": 4,
 "nbformat_minor": 2
}

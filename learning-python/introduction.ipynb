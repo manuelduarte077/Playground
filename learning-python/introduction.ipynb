{
 "cells": [
  {
   "attachments": {},
   "cell_type": "markdown",
   "metadata": {},
   "source": [
    "[]: # Title: Introduction to Python"
   ]
  },
  {
   "attachments": {},
   "cell_type": "markdown",
   "metadata": {},
   "source": [
    "Este notebook contiene algunos ejercicios de programación que lo equiparán con las habilidades de programación que necesita para los próximos talleres. No tenga miedo de cometer errores. Cometer errores durante la codificación es perfectamente normal. Es más importante que aprenda a corregir esos errores. Si está trabado en alguno de los ejercicios, comience primero por buscar soluciones similares en internet, seguro encontrará la respuesta. Si no puede hallarla, pida ayuda a sus compañeros, o al profesor en clase."
   ]
  },
  {
   "attachments": {},
   "cell_type": "markdown",
   "metadata": {},
   "source": [
    "Las listas son variables que le permiten almacenar más de un valor.\n",
    "\n",
    "Antes de comenzar a codificar, aquí hay algunas propiedades importantes sobre las listas:\n",
    "\n",
    "    1. Las listas se definen con corchetes []\n",
    "    2. Las listas pueden contener cadenas, números enteros, flotantes, booleanos o cualquier combinación de estos.\n",
    "    3. Los elementos de una lista están separados por comas,\n",
    "    \n",
    "Con las 3 propiedades en mente, ¡comencemos a codificar! Mire el código a continuación e intente ejecutarlo."
   ]
  },
  {
   "cell_type": "code",
   "execution_count": 1,
   "metadata": {},
   "outputs": [
    {
     "name": "stdout",
     "output_type": "stream",
     "text": [
      "Una lista vacía []\n"
     ]
    }
   ],
   "source": [
    "# Crear una lista vacia\n",
    "\n",
    "my_list = []\n",
    "print(\"Una lista vacía\", my_list)"
   ]
  }
 ],
 "metadata": {
  "kernelspec": {
   "display_name": "Python 3",
   "language": "python",
   "name": "python3"
  },
  "language_info": {
   "codemirror_mode": {
    "name": "ipython",
    "version": 3
   },
   "file_extension": ".py",
   "mimetype": "text/x-python",
   "name": "python",
   "nbconvert_exporter": "python",
   "pygments_lexer": "ipython3",
   "version": "3.10.9"
  },
  "orig_nbformat": 4,
  "vscode": {
   "interpreter": {
    "hash": "b0fa6594d8f4cbf19f97940f81e996739fb7646882a419484c72d19e05852a7e"
   }
  }
 },
 "nbformat": 4,
 "nbformat_minor": 2
}
